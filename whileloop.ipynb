{
 "cells": [
  {
   "cell_type": "code",
   "execution_count": 1,
   "id": "16cd559a-307e-4d64-98ea-cb12018e9a80",
   "metadata": {},
   "outputs": [
    {
     "name": "stdout",
     "output_type": "stream",
     "text": [
      "0 hello\n",
      "1 hello\n",
      "2 hello\n",
      "3 hello\n",
      "4 hello\n",
      "5 hello\n",
      "6 hello\n",
      "7 hello\n",
      "8 hello\n",
      "9 hello\n",
      "10 hello\n"
     ]
    }
   ],
   "source": [
    "a = 0\n",
    "while a<=10:\n",
    "    print(a,\"hello\")\n",
    "    a+=1"
   ]
  },
  {
   "cell_type": "code",
   "execution_count": 2,
   "id": "53323f89-b000-4b78-b797-3a2af64cbf68",
   "metadata": {},
   "outputs": [
    {
     "name": "stdout",
     "output_type": "stream",
     "text": [
      "100 hello\n",
      "99 hello\n",
      "98 hello\n",
      "97 hello\n",
      "96 hello\n",
      "95 hello\n",
      "94 hello\n",
      "93 hello\n",
      "92 hello\n",
      "91 hello\n",
      "90 hello\n",
      "89 hello\n",
      "88 hello\n",
      "87 hello\n",
      "86 hello\n",
      "85 hello\n",
      "84 hello\n",
      "83 hello\n",
      "82 hello\n",
      "81 hello\n",
      "80 hello\n",
      "79 hello\n",
      "78 hello\n",
      "77 hello\n",
      "76 hello\n",
      "75 hello\n",
      "74 hello\n",
      "73 hello\n",
      "72 hello\n",
      "71 hello\n",
      "70 hello\n",
      "69 hello\n",
      "68 hello\n",
      "67 hello\n",
      "66 hello\n",
      "65 hello\n",
      "64 hello\n",
      "63 hello\n",
      "62 hello\n",
      "61 hello\n",
      "60 hello\n",
      "59 hello\n",
      "58 hello\n",
      "57 hello\n",
      "56 hello\n",
      "55 hello\n",
      "54 hello\n",
      "53 hello\n",
      "52 hello\n",
      "51 hello\n",
      "50 hello\n",
      "49 hello\n",
      "48 hello\n",
      "47 hello\n",
      "46 hello\n",
      "45 hello\n",
      "44 hello\n",
      "43 hello\n",
      "42 hello\n",
      "41 hello\n",
      "40 hello\n",
      "39 hello\n",
      "38 hello\n",
      "37 hello\n",
      "36 hello\n",
      "35 hello\n",
      "34 hello\n",
      "33 hello\n",
      "32 hello\n",
      "31 hello\n",
      "30 hello\n",
      "29 hello\n",
      "28 hello\n",
      "27 hello\n",
      "26 hello\n",
      "25 hello\n",
      "24 hello\n",
      "23 hello\n",
      "22 hello\n",
      "21 hello\n",
      "20 hello\n",
      "19 hello\n",
      "18 hello\n",
      "17 hello\n",
      "16 hello\n",
      "15 hello\n",
      "14 hello\n",
      "13 hello\n",
      "12 hello\n",
      "11 hello\n",
      "10 hello\n",
      "9 hello\n",
      "8 hello\n",
      "7 hello\n",
      "6 hello\n",
      "5 hello\n",
      "4 hello\n",
      "3 hello\n",
      "2 hello\n",
      "1 hello\n"
     ]
    }
   ],
   "source": [
    "a = 100\n",
    "while a>0:\n",
    "    print(a,\"hello\")\n",
    "    a-=1"
   ]
  },
  {
   "cell_type": "code",
   "execution_count": 15,
   "id": "56edab5f-18d1-49cc-a843-4b45abf2bf5e",
   "metadata": {},
   "outputs": [
    {
     "ename": "IndentationError",
     "evalue": "unindent does not match any outer indentation level (<string>, line 4)",
     "output_type": "error",
     "traceback": [
      "\u001b[1;36m  File \u001b[1;32m<string>:4\u001b[1;36m\u001b[0m\n\u001b[1;33m    if name == 'quit':\u001b[0m\n\u001b[1;37m                      ^\u001b[0m\n\u001b[1;31mIndentationError\u001b[0m\u001b[1;31m:\u001b[0m unindent does not match any outer indentation level\n"
     ]
    }
   ],
   "source": [
    "friends = []\n",
    "while True:\n",
    "     name = input(\"enter guest name press quit to exit): \").lower()\n",
    "    if name == 'quit':\n",
    "        break\n",
    "  friends.append(name)\n",
    "\n",
    "friends"
   ]
  },
  {
   "cell_type": "code",
   "execution_count": 18,
   "id": "19dd459d-0074-49f7-88ff-46afdefed8c5",
   "metadata": {},
   "outputs": [
    {
     "name": "stdout",
     "output_type": "stream",
     "text": [
      "I like fajita pizza\n",
      "I like peproni pizza\n",
      "I like tikaa pizza\n",
      "I really love pizza!\n"
     ]
    }
   ],
   "source": [
    "pizza_name = ['fajita', 'peproni', 'tikaa']  # Original list (note: 'peproni' and 'tikaa' might be typos)\n",
    "for a in pizza_name:  # Fixed variable name (removed 's')\n",
    "    print(f\"I like {a} pizza\")\n",
    "print(\"I really love pizza!\")"
   ]
  },
  {
   "cell_type": "code",
   "execution_count": 19,
   "id": "3349420c-08cb-41c2-bbe4-18fade720f77",
   "metadata": {
    "scrolled": true
   },
   "outputs": [
    {
     "name": "stdin",
     "output_type": "stream",
     "text": [
      "enter guest name (press quit to exit):  q\n",
      "enter guest name (press quit to exit):  quit\n"
     ]
    },
    {
     "data": {
      "text/plain": [
       "['q']"
      ]
     },
     "execution_count": 19,
     "metadata": {},
     "output_type": "execute_result"
    }
   ],
   "source": [
    "friends = []\n",
    "while True:\n",
    "    name = input(\"enter guest name (press quit to exit): \").lower()\n",
    "    if name == 'quit':\n",
    "        break\n",
    "    friends.append(name)\n",
    "\n",
    "friends"
   ]
  },
  {
   "cell_type": "code",
   "execution_count": 14,
   "id": "7c4ba35c-a001-48c2-9f1f-36e82612a0ef",
   "metadata": {},
   "outputs": [
    {
     "name": "stdout",
     "output_type": "stream",
     "text": [
      "1\n",
      "8\n",
      "27\n",
      "64\n",
      "125\n",
      "216\n",
      "343\n",
      "512\n",
      "729\n",
      "1000\n"
     ]
    }
   ],
   "source": [
    "\n",
    "cubes = [num**3 for num in range(1, 11)]\n",
    "\n",
    "\n",
    "for cube in cubes:\n",
    "    print(cube)"
   ]
  },
  {
   "cell_type": "code",
   "execution_count": 15,
   "id": "81d4ecc3-2004-4585-b381-c001cad7dd98",
   "metadata": {},
   "outputs": [
    {
     "data": {
      "text/plain": [
       "[1, 8, 27, 64, 125, 216, 343, 512, 729, 1000, 1331]"
      ]
     },
     "execution_count": 15,
     "metadata": {},
     "output_type": "execute_result"
    }
   ],
   "source": [
    "cubes = []\n",
    "for a in range (1,12):\n",
    "    cubes.append(a**3)\n",
    "cubes"
   ]
  },
  {
   "cell_type": "code",
   "execution_count": 16,
   "id": "ba3bb210-33fb-4916-8206-e173bf3c00df",
   "metadata": {},
   "outputs": [
    {
     "name": "stdout",
     "output_type": "stream",
     "text": [
      "first three item in the list are :[1, 8, 27]\n"
     ]
    }
   ],
   "source": [
    "print(f\"first three item in the list are :{cubes[:3]}\")"
   ]
  },
  {
   "cell_type": "code",
   "execution_count": 17,
   "id": "8ce8165b-d384-452a-9b64-e7b94d65a497",
   "metadata": {},
   "outputs": [
    {
     "name": "stdout",
     "output_type": "stream",
     "text": [
      "first three item in the list are :[1, 8, 27, 64, 125, 216, 343]\n"
     ]
    }
   ],
   "source": [
    "print(f\"first three item in the list are :{cubes[:7]}\")"
   ]
  },
  {
   "cell_type": "code",
   "execution_count": null,
   "id": "cb481e14-ea7c-4469-a4f8-fcfb40179632",
   "metadata": {},
   "outputs": [],
   "source": []
  },
  {
   "cell_type": "code",
   "execution_count": null,
   "id": "6e4abdb5-287c-4f66-a738-b3d7fac83d69",
   "metadata": {},
   "outputs": [],
   "source": []
  },
  {
   "cell_type": "code",
   "execution_count": 20,
   "id": "bc973f8e-40b7-4941-8de6-fb39cd0489f3",
   "metadata": {},
   "outputs": [
    {
     "name": "stdout",
     "output_type": "stream",
     "text": [
      "Original menu:\n",
      "- rice\n",
      "- beans\n",
      "- chicken\n",
      "- salad\n",
      "- bread\n",
      "\n",
      "Error when trying to modify tuple: 'tuple' object does not support item assignment\n",
      "\n",
      "Revised menu:\n",
      "- pasta\n",
      "- beans\n",
      "- fish\n",
      "- salad\n",
      "- soup\n"
     ]
    }
   ],
   "source": [
    "menu = ('rice', 'beans', 'chicken', 'salad', 'bread')\n",
    "print(\"Original menu:\")\n",
    "for food in menu:\n",
    "    print(f\"- {food}\")\n",
    "try:\n",
    "    menu[0] = 'pasta'  #\n",
    "except TypeError as e:\n",
    "    print(f\"\\nError when trying to modify tuple: {e}\")\n",
    "    # Revised menu (replacing two items)\n",
    "menu = ('pasta', 'beans', 'fish', 'salad', 'soup')\n",
    "print(\"\\nRevised menu:\")\n",
    "for food in menu:\n",
    "    print(f\"- {food}\")\n"
   ]
  },
  {
   "cell_type": "code",
   "execution_count": 19,
   "id": "2d7118fa-2f6c-46da-a768-37af6a8e36ce",
   "metadata": {},
   "outputs": [],
   "source": [
    "food = ('biryani', 'haleem','karahi')\n"
   ]
  },
  {
   "cell_type": "code",
   "execution_count": 20,
   "id": "f10ef121-ae66-49da-bba1-869c3e1a3174",
   "metadata": {},
   "outputs": [
    {
     "name": "stdout",
     "output_type": "stream",
     "text": [
      " - biryani\n",
      " - haleem\n",
      " - karahi\n"
     ]
    }
   ],
   "source": [
    "for f in food:\n",
    "    print(f\" - {f}\")"
   ]
  },
  {
   "cell_type": "code",
   "execution_count": null,
   "id": "57b0bf79-36c3-4f2f-b227-25b8a3346e7e",
   "metadata": {},
   "outputs": [],
   "source": [
    "allien_color = 'green'\n",
    "if allien_color == 'green':\n",
    "    print(f\"the player just earned 5 points\")"
   ]
  },
  {
   "cell_type": "code",
   "execution_count": null,
   "id": "7352f7a9-ac68-4da4-9957-cc744f80210a",
   "metadata": {},
   "outputs": [],
   "source": []
  },
  {
   "cell_type": "code",
   "execution_count": null,
   "id": "068bef05-03e7-4bc3-aee5-23e24e1ded68",
   "metadata": {},
   "outputs": [],
   "source": [
    "allien_color = input(\"color: \")\n",
    "if allien_color=='green':\n",
    "    print(f\"the player just earned 5 points\")\n",
    "else:\n",
    "    print(f\"the player just earned 10 points\")"
   ]
  },
  {
   "cell_type": "code",
   "execution_count": null,
   "id": "863127f6-fde0-4d6e-9e7c-9394333520e3",
   "metadata": {},
   "outputs": [],
   "source": [
    "allien_color = input(\"color: \")\n",
    "if allien_color=='green':\n",
    "    print(f\"the player just earned 5 points\")\n",
    "elif allien_color=='yellow':\n",
    "    print(f\"the player just earned 10 points\")\n",
    "elif allien_color=='red':\n",
    "    print(f\"the player just earned 15 points\")\n",
    "else:\n",
    "    print(\"your killed is not an allien\")\n",
    "\n",
    "\n",
    "\n"
   ]
  },
  {
   "cell_type": "code",
   "execution_count": 28,
   "id": "f7b7ee7d-b2b2-45a6-93c3-3eaa9f6db79e",
   "metadata": {},
   "outputs": [
    {
     "name": "stdout",
     "output_type": "stream",
     "text": [
      "Hello admin, would you like to see a status report?\n",
      "Hi Eric, thank you for logging in again.\n",
      "Hi Sarah, thank you for logging in again.\n",
      "Hi Mike, thank you for logging in again.\n",
      "Hi Jane, thank you for logging in again.\n"
     ]
    }
   ],
   "source": [
    "usernames = ['admin', 'eric', 'sarah', 'mike', 'jane']\n",
    "\n",
    "for username in usernames:\n",
    "    if username == 'admin':\n",
    "        print(\"Hello admin, would you like to see a status report?\")\n",
    "    else:\n",
    "        print(f\"Hi {username.title()}, thank you for logging in again.\")"
   ]
  },
  {
   "cell_type": "code",
   "execution_count": null,
   "id": "3a7a1408-e90c-4a32-a7c4-d6f40dbdc3a4",
   "metadata": {},
   "outputs": [],
   "source": []
  }
 ],
 "metadata": {
  "kernelspec": {
   "display_name": "Python [conda env:base] *",
   "language": "python",
   "name": "conda-base-py"
  },
  "language_info": {
   "codemirror_mode": {
    "name": "ipython",
    "version": 3
   },
   "file_extension": ".py",
   "mimetype": "text/x-python",
   "name": "python",
   "nbconvert_exporter": "python",
   "pygments_lexer": "ipython3",
   "version": "3.12.7"
  }
 },
 "nbformat": 4,
 "nbformat_minor": 5
}
